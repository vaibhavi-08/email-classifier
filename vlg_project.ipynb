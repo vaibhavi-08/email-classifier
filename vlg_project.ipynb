{
  "nbformat": 4,
  "nbformat_minor": 0,
  "metadata": {
    "colab": {
      "provenance": [],
      "include_colab_link": true
    },
    "kernelspec": {
      "name": "python3",
      "display_name": "Python 3"
    },
    "language_info": {
      "name": "python"
    }
  },
  "cells": [
    {
      "cell_type": "markdown",
      "metadata": {
        "id": "view-in-github",
        "colab_type": "text"
      },
      "source": [
        "<a href=\"https://colab.research.google.com/github/vaibhavi-08/email-classifier/blob/main/vlg_project.ipynb\" target=\"_parent\"><img src=\"https://colab.research.google.com/assets/colab-badge.svg\" alt=\"Open In Colab\"/></a>"
      ]
    },
    {
      "cell_type": "code",
      "source": [
        "\n",
        "import numpy as np\n",
        "from matplotlib import pyplot as plt\n",
        "from pylab import rcParams\n",
        "import csv\n",
        "import imaplib\n",
        "import email"
      ],
      "metadata": {
        "id": "H1gphkxrJA8I"
      },
      "execution_count": null,
      "outputs": []
    },
    {
      "cell_type": "code",
      "source": [
        "user = \"makwana_vl@cs.iitr.ac.in\"\n",
        "password = \"iudwotejxklplgjq\"\n",
        "imap_url= \"imap.gmail.com\"\n",
        "my_mail=imaplib.IMAP4_SSL(imap_url)\n",
        "my_mail.login(user,password)"
      ],
      "metadata": {
        "colab": {
          "base_uri": "https://localhost:8080/"
        },
        "id": "YHe-r9CeJeZg",
        "outputId": "b1548703-0109-4528-f3bd-50edbc153cf0"
      },
      "execution_count": null,
      "outputs": [
        {
          "output_type": "execute_result",
          "data": {
            "text/plain": [
              "('OK', [b'makwana_vl@cs.iitr.ac.in authenticated (Success)'])"
            ]
          },
          "metadata": {},
          "execution_count": 15
        }
      ]
    },
    {
      "cell_type": "code",
      "source": [
        "my_mail.select('Inbox')\n",
        "batch_size = 200  # Adjust the batch size as needed\n",
        "result, data = my_mail.search(None, 'ALL')\n",
        "mail_id_list = data[0].split()\n",
        "\n",
        "# Remove the last 100 emails\n",
        "#actually i did this to get some emails which i wanted like i didn't want the last or first emails.\n",
        "mail_id_list = mail_id_list[:-100]\n",
        "\n",
        "# Select the last 200 emails\n",
        "start_index = max(len(mail_id_list) - batch_size, 0)\n",
        "mail_id_list = mail_id_list[start_index:]\n",
        "\n",
        "csv_file = 'final.csv'\n",
        "with open(csv_file, 'w', newline='', encoding='utf-8') as file:\n",
        "    writer = csv.writer(file)\n",
        "    writer.writerow(['Subject', 'From', 'Body'])\n",
        "\n",
        "    for i in range(0, len(mail_id_list), batch_size):\n",
        "        batch_ids = mail_id_list[i:i + batch_size]\n",
        "        msgs = []\n",
        "        for num in batch_ids:\n",
        "            typ, data = my_mail.fetch(num, '(RFC822)')\n",
        "            msgs.append(data)\n",
        "\n",
        "        for msg in msgs[::-1]:\n",
        "            for response_part in msg:\n",
        "                if isinstance(response_part, tuple):\n",
        "                    try:\n",
        "                        my_msg = email.message_from_bytes(response_part[1])\n",
        "                        subject = my_msg['subject']\n",
        "                        sender = my_msg['from']\n",
        "                        body = ''\n",
        "                        for part in my_msg.walk():\n",
        "                            if part.get_content_type() == 'text/plain':\n",
        "                                body = part.get_payload()\n",
        "\n",
        "                        # Write email data to CSV\n",
        "                        writer.writerow([subject, sender, body])\n",
        "                    except Exception as e:\n",
        "                        print(\"Error processing email:\", str(e))"
      ],
      "metadata": {
        "id": "oaKkw6oFxD7O"
      },
      "execution_count": null,
      "outputs": []
    },
    {
      "cell_type": "code",
      "source": [
        "import csv\n",
        "from google.colab import files\n",
        "files.download(csv_file)\n",
        "#now i got the dataset but i tried to preprocess it."
      ],
      "metadata": {
        "id": "Uf1chFiKQYCj",
        "colab": {
          "base_uri": "https://localhost:8080/",
          "height": 17
        },
        "outputId": "de8ffe73-df04-43d8-e6e6-1f53496a02e1"
      },
      "execution_count": null,
      "outputs": [
        {
          "output_type": "display_data",
          "data": {
            "text/plain": [
              "<IPython.core.display.Javascript object>"
            ],
            "application/javascript": [
              "\n",
              "    async function download(id, filename, size) {\n",
              "      if (!google.colab.kernel.accessAllowed) {\n",
              "        return;\n",
              "      }\n",
              "      const div = document.createElement('div');\n",
              "      const label = document.createElement('label');\n",
              "      label.textContent = `Downloading \"${filename}\": `;\n",
              "      div.appendChild(label);\n",
              "      const progress = document.createElement('progress');\n",
              "      progress.max = size;\n",
              "      div.appendChild(progress);\n",
              "      document.body.appendChild(div);\n",
              "\n",
              "      const buffers = [];\n",
              "      let downloaded = 0;\n",
              "\n",
              "      const channel = await google.colab.kernel.comms.open(id);\n",
              "      // Send a message to notify the kernel that we're ready.\n",
              "      channel.send({})\n",
              "\n",
              "      for await (const message of channel.messages) {\n",
              "        // Send a message to notify the kernel that we're ready.\n",
              "        channel.send({})\n",
              "        if (message.buffers) {\n",
              "          for (const buffer of message.buffers) {\n",
              "            buffers.push(buffer);\n",
              "            downloaded += buffer.byteLength;\n",
              "            progress.value = downloaded;\n",
              "          }\n",
              "        }\n",
              "      }\n",
              "      const blob = new Blob(buffers, {type: 'application/binary'});\n",
              "      const a = document.createElement('a');\n",
              "      a.href = window.URL.createObjectURL(blob);\n",
              "      a.download = filename;\n",
              "      div.appendChild(a);\n",
              "      a.click();\n",
              "      div.remove();\n",
              "    }\n",
              "  "
            ]
          },
          "metadata": {}
        },
        {
          "output_type": "display_data",
          "data": {
            "text/plain": [
              "<IPython.core.display.Javascript object>"
            ],
            "application/javascript": [
              "download(\"download_52443347-fa83-4d04-ab9c-b378cfeb0ba9\", \"final.csv\", 352371)"
            ]
          },
          "metadata": {}
        }
      ]
    },
    {
      "cell_type": "code",
      "source": [
        "# the dataset which i got above was having some emails in hindi and also some text was encoded\n",
        "#in utf-8 which i tried to convert but it didn't work well.\n",
        "\n",
        "#however it wasn't working well so i manually removed that emails.\n",
        "\n",
        "\n",
        "# import pandas as pd\n",
        "# import re\n",
        "# from textblob import TextBlob\n",
        "# import quopri\n",
        "# import csv\n",
        "# from email.header import decode_header"
      ],
      "metadata": {
        "id": "9dxepq_gElYp"
      },
      "execution_count": null,
      "outputs": []
    },
    {
      "cell_type": "code",
      "source": [
        "# ! pip install pandas googletrans==4.0.0-rc1\n"
      ],
      "metadata": {
        "colab": {
          "base_uri": "https://localhost:8080/"
        },
        "id": "kqnZEMt7TO06",
        "outputId": "3f50687b-cf41-4fdb-8c53-8c1c5291e46b"
      },
      "execution_count": null,
      "outputs": [
        {
          "output_type": "stream",
          "name": "stdout",
          "text": [
            "Looking in indexes: https://pypi.org/simple, https://us-python.pkg.dev/colab-wheels/public/simple/\n",
            "Requirement already satisfied: pandas in /usr/local/lib/python3.10/dist-packages (1.5.3)\n",
            "Requirement already satisfied: googletrans==4.0.0-rc1 in /usr/local/lib/python3.10/dist-packages (4.0.0rc1)\n",
            "Requirement already satisfied: httpx==0.13.3 in /usr/local/lib/python3.10/dist-packages (from googletrans==4.0.0-rc1) (0.13.3)\n",
            "Requirement already satisfied: certifi in /usr/local/lib/python3.10/dist-packages (from httpx==0.13.3->googletrans==4.0.0-rc1) (2022.12.7)\n",
            "Requirement already satisfied: hstspreload in /usr/local/lib/python3.10/dist-packages (from httpx==0.13.3->googletrans==4.0.0-rc1) (2023.1.1)\n",
            "Requirement already satisfied: sniffio in /usr/local/lib/python3.10/dist-packages (from httpx==0.13.3->googletrans==4.0.0-rc1) (1.3.0)\n",
            "Requirement already satisfied: chardet==3.* in /usr/local/lib/python3.10/dist-packages (from httpx==0.13.3->googletrans==4.0.0-rc1) (3.0.4)\n",
            "Requirement already satisfied: idna==2.* in /usr/local/lib/python3.10/dist-packages (from httpx==0.13.3->googletrans==4.0.0-rc1) (2.10)\n",
            "Requirement already satisfied: rfc3986<2,>=1.3 in /usr/local/lib/python3.10/dist-packages (from httpx==0.13.3->googletrans==4.0.0-rc1) (1.5.0)\n",
            "Requirement already satisfied: httpcore==0.9.* in /usr/local/lib/python3.10/dist-packages (from httpx==0.13.3->googletrans==4.0.0-rc1) (0.9.1)\n",
            "Requirement already satisfied: h11<0.10,>=0.8 in /usr/local/lib/python3.10/dist-packages (from httpcore==0.9.*->httpx==0.13.3->googletrans==4.0.0-rc1) (0.9.0)\n",
            "Requirement already satisfied: h2==3.* in /usr/local/lib/python3.10/dist-packages (from httpcore==0.9.*->httpx==0.13.3->googletrans==4.0.0-rc1) (3.2.0)\n",
            "Requirement already satisfied: hyperframe<6,>=5.2.0 in /usr/local/lib/python3.10/dist-packages (from h2==3.*->httpcore==0.9.*->httpx==0.13.3->googletrans==4.0.0-rc1) (5.2.0)\n",
            "Requirement already satisfied: hpack<4,>=3.0 in /usr/local/lib/python3.10/dist-packages (from h2==3.*->httpcore==0.9.*->httpx==0.13.3->googletrans==4.0.0-rc1) (3.0.0)\n",
            "Requirement already satisfied: python-dateutil>=2.8.1 in /usr/local/lib/python3.10/dist-packages (from pandas) (2.8.2)\n",
            "Requirement already satisfied: pytz>=2020.1 in /usr/local/lib/python3.10/dist-packages (from pandas) (2022.7.1)\n",
            "Requirement already satisfied: numpy>=1.21.0 in /usr/local/lib/python3.10/dist-packages (from pandas) (1.22.4)\n",
            "Requirement already satisfied: six>=1.5 in /usr/local/lib/python3.10/dist-packages (from python-dateutil>=2.8.1->pandas) (1.16.0)\n"
          ]
        }
      ]
    },
    {
      "cell_type": "code",
      "source": [
        "\n",
        "# import json\n",
        "# from googletrans import Translator\n",
        "\n",
        "# translator = Translator()\n",
        "\n",
        "# def decode_and_translate(text):\n",
        "#     try:\n",
        "#         decoded_text = text.decode('utf-8')\n",
        "#         translated_text = translator.translate(decoded_text, src='hi',  dest='en').text\n",
        "#         return translated_text\n",
        "#     except AttributeError:\n",
        "#         return text\n",
        "\n",
        "# # Read the input CSV file\n",
        "# with open('real_final.csv', 'r', encoding='utf-8') as input_file:\n",
        "#     reader = csv.DictReader(input_file)\n",
        "#     rows = list(reader)\n",
        "\n",
        "# # Process the Subject column and update the translated values\n",
        "# for row in rows:\n",
        "#     if isinstance(row['Subject'], bytes):\n",
        "#         row['Subject'] = decode_and_translate(row['Subject'])\n",
        "\n",
        "# # Write the updated rows to a new CSV file\n",
        "# output_file_name = 'output.csv'\n",
        "# with open(output_file_name, 'w', encoding='utf-8', newline='') as output_file:\n",
        "#     writer = csv.DictWriter(output_file, fieldnames=reader.fieldnames)\n",
        "#     writer.writeheader()\n",
        "#     writer.writerows(rows)\n",
        "\n",
        "# print(f\"Output file '{output_file_name}' has been created.\")\n"
      ],
      "metadata": {
        "id": "1d8OCxMX3uE2"
      },
      "execution_count": null,
      "outputs": []
    }
  ]
}