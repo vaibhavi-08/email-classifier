{
  "nbformat": 4,
  "nbformat_minor": 0,
  "metadata": {
    "colab": {
      "provenance": [],
      "include_colab_link": true
    },
    "kernelspec": {
      "name": "python3",
      "display_name": "Python 3"
    },
    "language_info": {
      "name": "python"
    }
  },
  "cells": [
    {
      "cell_type": "markdown",
      "metadata": {
        "id": "view-in-github",
        "colab_type": "text"
      },
      "source": [
        "<a href=\"https://colab.research.google.com/github/vaibhavi-08/email-classifier/blob/main/vlg_project_ii.ipynb\" target=\"_parent\"><img src=\"https://colab.research.google.com/assets/colab-badge.svg\" alt=\"Open In Colab\"/></a>"
      ]
    },
    {
      "cell_type": "code",
      "execution_count": null,
      "metadata": {
        "id": "c6mdL3xIcSjK",
        "colab": {
          "base_uri": "https://localhost:8080/",
          "height": 75
        },
        "outputId": "b7272ba5-92c9-4c00-99ae-39ed79689453"
      },
      "outputs": [
        {
          "output_type": "display_data",
          "data": {
            "text/plain": [
              "<IPython.core.display.HTML object>"
            ],
            "text/html": [
              "\n",
              "     <input type=\"file\" id=\"files-8e9a65dc-6424-4cc6-b68f-e7620b4c58a9\" name=\"files[]\" multiple disabled\n",
              "        style=\"border:none\" />\n",
              "     <output id=\"result-8e9a65dc-6424-4cc6-b68f-e7620b4c58a9\">\n",
              "      Upload widget is only available when the cell has been executed in the\n",
              "      current browser session. Please rerun this cell to enable.\n",
              "      </output>\n",
              "      <script>// Copyright 2017 Google LLC\n",
              "//\n",
              "// Licensed under the Apache License, Version 2.0 (the \"License\");\n",
              "// you may not use this file except in compliance with the License.\n",
              "// You may obtain a copy of the License at\n",
              "//\n",
              "//      http://www.apache.org/licenses/LICENSE-2.0\n",
              "//\n",
              "// Unless required by applicable law or agreed to in writing, software\n",
              "// distributed under the License is distributed on an \"AS IS\" BASIS,\n",
              "// WITHOUT WARRANTIES OR CONDITIONS OF ANY KIND, either express or implied.\n",
              "// See the License for the specific language governing permissions and\n",
              "// limitations under the License.\n",
              "\n",
              "/**\n",
              " * @fileoverview Helpers for google.colab Python module.\n",
              " */\n",
              "(function(scope) {\n",
              "function span(text, styleAttributes = {}) {\n",
              "  const element = document.createElement('span');\n",
              "  element.textContent = text;\n",
              "  for (const key of Object.keys(styleAttributes)) {\n",
              "    element.style[key] = styleAttributes[key];\n",
              "  }\n",
              "  return element;\n",
              "}\n",
              "\n",
              "// Max number of bytes which will be uploaded at a time.\n",
              "const MAX_PAYLOAD_SIZE = 100 * 1024;\n",
              "\n",
              "function _uploadFiles(inputId, outputId) {\n",
              "  const steps = uploadFilesStep(inputId, outputId);\n",
              "  const outputElement = document.getElementById(outputId);\n",
              "  // Cache steps on the outputElement to make it available for the next call\n",
              "  // to uploadFilesContinue from Python.\n",
              "  outputElement.steps = steps;\n",
              "\n",
              "  return _uploadFilesContinue(outputId);\n",
              "}\n",
              "\n",
              "// This is roughly an async generator (not supported in the browser yet),\n",
              "// where there are multiple asynchronous steps and the Python side is going\n",
              "// to poll for completion of each step.\n",
              "// This uses a Promise to block the python side on completion of each step,\n",
              "// then passes the result of the previous step as the input to the next step.\n",
              "function _uploadFilesContinue(outputId) {\n",
              "  const outputElement = document.getElementById(outputId);\n",
              "  const steps = outputElement.steps;\n",
              "\n",
              "  const next = steps.next(outputElement.lastPromiseValue);\n",
              "  return Promise.resolve(next.value.promise).then((value) => {\n",
              "    // Cache the last promise value to make it available to the next\n",
              "    // step of the generator.\n",
              "    outputElement.lastPromiseValue = value;\n",
              "    return next.value.response;\n",
              "  });\n",
              "}\n",
              "\n",
              "/**\n",
              " * Generator function which is called between each async step of the upload\n",
              " * process.\n",
              " * @param {string} inputId Element ID of the input file picker element.\n",
              " * @param {string} outputId Element ID of the output display.\n",
              " * @return {!Iterable<!Object>} Iterable of next steps.\n",
              " */\n",
              "function* uploadFilesStep(inputId, outputId) {\n",
              "  const inputElement = document.getElementById(inputId);\n",
              "  inputElement.disabled = false;\n",
              "\n",
              "  const outputElement = document.getElementById(outputId);\n",
              "  outputElement.innerHTML = '';\n",
              "\n",
              "  const pickedPromise = new Promise((resolve) => {\n",
              "    inputElement.addEventListener('change', (e) => {\n",
              "      resolve(e.target.files);\n",
              "    });\n",
              "  });\n",
              "\n",
              "  const cancel = document.createElement('button');\n",
              "  inputElement.parentElement.appendChild(cancel);\n",
              "  cancel.textContent = 'Cancel upload';\n",
              "  const cancelPromise = new Promise((resolve) => {\n",
              "    cancel.onclick = () => {\n",
              "      resolve(null);\n",
              "    };\n",
              "  });\n",
              "\n",
              "  // Wait for the user to pick the files.\n",
              "  const files = yield {\n",
              "    promise: Promise.race([pickedPromise, cancelPromise]),\n",
              "    response: {\n",
              "      action: 'starting',\n",
              "    }\n",
              "  };\n",
              "\n",
              "  cancel.remove();\n",
              "\n",
              "  // Disable the input element since further picks are not allowed.\n",
              "  inputElement.disabled = true;\n",
              "\n",
              "  if (!files) {\n",
              "    return {\n",
              "      response: {\n",
              "        action: 'complete',\n",
              "      }\n",
              "    };\n",
              "  }\n",
              "\n",
              "  for (const file of files) {\n",
              "    const li = document.createElement('li');\n",
              "    li.append(span(file.name, {fontWeight: 'bold'}));\n",
              "    li.append(span(\n",
              "        `(${file.type || 'n/a'}) - ${file.size} bytes, ` +\n",
              "        `last modified: ${\n",
              "            file.lastModifiedDate ? file.lastModifiedDate.toLocaleDateString() :\n",
              "                                    'n/a'} - `));\n",
              "    const percent = span('0% done');\n",
              "    li.appendChild(percent);\n",
              "\n",
              "    outputElement.appendChild(li);\n",
              "\n",
              "    const fileDataPromise = new Promise((resolve) => {\n",
              "      const reader = new FileReader();\n",
              "      reader.onload = (e) => {\n",
              "        resolve(e.target.result);\n",
              "      };\n",
              "      reader.readAsArrayBuffer(file);\n",
              "    });\n",
              "    // Wait for the data to be ready.\n",
              "    let fileData = yield {\n",
              "      promise: fileDataPromise,\n",
              "      response: {\n",
              "        action: 'continue',\n",
              "      }\n",
              "    };\n",
              "\n",
              "    // Use a chunked sending to avoid message size limits. See b/62115660.\n",
              "    let position = 0;\n",
              "    do {\n",
              "      const length = Math.min(fileData.byteLength - position, MAX_PAYLOAD_SIZE);\n",
              "      const chunk = new Uint8Array(fileData, position, length);\n",
              "      position += length;\n",
              "\n",
              "      const base64 = btoa(String.fromCharCode.apply(null, chunk));\n",
              "      yield {\n",
              "        response: {\n",
              "          action: 'append',\n",
              "          file: file.name,\n",
              "          data: base64,\n",
              "        },\n",
              "      };\n",
              "\n",
              "      let percentDone = fileData.byteLength === 0 ?\n",
              "          100 :\n",
              "          Math.round((position / fileData.byteLength) * 100);\n",
              "      percent.textContent = `${percentDone}% done`;\n",
              "\n",
              "    } while (position < fileData.byteLength);\n",
              "  }\n",
              "\n",
              "  // All done.\n",
              "  yield {\n",
              "    response: {\n",
              "      action: 'complete',\n",
              "    }\n",
              "  };\n",
              "}\n",
              "\n",
              "scope.google = scope.google || {};\n",
              "scope.google.colab = scope.google.colab || {};\n",
              "scope.google.colab._files = {\n",
              "  _uploadFiles,\n",
              "  _uploadFilesContinue,\n",
              "};\n",
              "})(self);\n",
              "</script> "
            ]
          },
          "metadata": {}
        },
        {
          "output_type": "stream",
          "name": "stdout",
          "text": [
            "Saving real_final.csv to real_final.csv\n"
          ]
        }
      ],
      "source": [
        "from google.colab import files\n",
        "uploaded = files.upload()"
      ]
    },
    {
      "cell_type": "code",
      "source": [
        "import numpy as np\n",
        "import pandas as pd\n",
        "from sklearn.feature_extraction.text import TfidfVectorizer"
      ],
      "metadata": {
        "id": "PGLWuw0IjI_Y"
      },
      "execution_count": null,
      "outputs": []
    },
    {
      "cell_type": "code",
      "source": [
        "email_df = pd.read_csv('real_final.csv')\n",
        "email_df.drop(email_df.query(\"Subject == ''| From == '' | Body == ''\").index, inplace=True)\n",
        "email_df['text'] = email_df['Subject']+' '+email_df['From']+' '+email_df['Body']\n",
        "email_df['text'] = email_df['text'].fillna('')"
      ],
      "metadata": {
        "id": "NYnXV1K4gUcL"
      },
      "execution_count": null,
      "outputs": []
    },
    {
      "cell_type": "code",
      "source": [
        "#this was what i previously did. It finds the emails which are relevent to a given query.\n",
        "\n",
        "#from sklearn.feature_extraction.text import TfidfVectorizer\n",
        "#from sklearn.metrics.pairwise import linear_kernel\n"
      ],
      "metadata": {
        "id": "Rn3b9tmjOBqF"
      },
      "execution_count": null,
      "outputs": []
    },
    {
      "cell_type": "code",
      "source": [
        "# class EmailDataset:\n",
        "#   def __init__(self):\n",
        "#     self.vec = TfidfVectorizer(analyzer='word', max_df=0.3, min_df=2)\n",
        "#     self.emails = email_df['Body'].fillna('')\n",
        "#     self.train()\n",
        "\n",
        "#   def train(self):\n",
        "#     self.vec_train = self.vec.fit_transform(self.emails)\n",
        "\n",
        "#   def query(self, keyword, limit):\n",
        "#     vec_keyword = self.vec.transform([keyword])\n",
        "#     cosine_sim = linear_kernel(vec_keyword, self.vec_train).flatten()\n",
        "#     related_email_indices = cosine_sim.argsort()[:-limit:-1]\n",
        "#     print(related_email_indices)\n",
        "#     return related_email_indices\n",
        "\n",
        "#   def find_email_by_index(self, i):\n",
        "#     return self.emails.to_numpy()[i]"
      ],
      "metadata": {
        "id": "a5KTW8DYOy_Q"
      },
      "execution_count": null,
      "outputs": []
    },
    {
      "cell_type": "code",
      "source": [
        "\n",
        "# vec = TfidfVectorizer(analyzer='word', max_df=0.3, min_df=2)\n",
        "# vec_train = vec.fit_transform(email_df['Body'].fillna(''))"
      ],
      "metadata": {
        "id": "3yvVOS0wTINd"
      },
      "execution_count": null,
      "outputs": []
    },
    {
      "cell_type": "code",
      "source": [
        "# cosine_sim = linear_kernel(vec_train[0:1], vec_train).flatten()\n",
        "# related_email_indices = cosine_sim.argsort()[:-10:-1]\n",
        "\n",
        "# print(related_email_indices)\n",
        "\n",
        "\n",
        "# ds = EmailDataset()\n",
        "# results = ds.query('events', 10)\n",
        "\n",
        "# # Print out the first result.\n",
        "# print(ds.find_email_by_index(results[0]))"
      ],
      "metadata": {
        "colab": {
          "base_uri": "https://localhost:8080/"
        },
        "id": "ffefGWOcVDrk",
        "outputId": "b93ce943-bfc0-43e0-bc3e-93400e0cd9cb"
      },
      "execution_count": null,
      "outputs": [
        {
          "output_type": "stream",
          "name": "stdout",
          "text": [
            "[  0   9   2  10  47 100 145  27  74]\n",
            "[69 96 56 31 63 57 64 62 61]\n",
            "The Students' Technical Council is pleased to announce Techzibition, a\r\n",
            "technical exhibition as part of Techshila - Inter Bhawan Tech Meet of IIT\r\n",
            "Roorkee, showcasing the projects of our technical groups. This event is a\r\n",
            "reflection of the hard work and perseverance of all groups under the\r\n",
            "Students' Technical Council in the past year.\r\n",
            "\r\n",
            "We invite you to join us for this exhibition, where you can explore a vast\r\n",
            "multitude of projects in domains ranging from mobile applications to\r\n",
            "robotics, design illustrations to startup ideas, drones to VR games and\r\n",
            "even electric wheels to have a test drive. Additionally, there will be fun\r\n",
            "events and quizzes throughout the exhibition, giving you a chance to win\r\n",
            "exciting goodies.\r\n",
            "\r\n",
            "The exhibition will be held on the following schedule:\r\n",
            "Venue: SAC Ground and First Floor\r\n",
            "Date and Time:\r\n",
            "15th April 4 PM - 11 PM\r\n",
            "16th April 12 PM - 6 PM\r\n",
            "\r\n",
            "The exhibition will be on display for the entire duration mentioned above.\r\n",
            "We hope this event inspires you and our groups to more such events in the\r\n",
            "future.\r\n",
            "\r\n",
            "We look forward to seeing you all there!\r\n",
            "\r\n",
            "\r\n",
            "\r\n",
            "For any more info, you may contact the following:\r\n",
            "\r\n",
            "Ashutosh Singh - Overall Coordinator, TechShila [+91-9555305935,\r\n",
            "ashutosh_s1@cs.iitr.ac.in <ashutosh_s2@cs.iitr.ac.in>]\r\n",
            "Ayush Diwang - Overall Coordinator, TechShila [+91-8092794279,\r\n",
            "ayush_d@ce.iitr.ac.in]\r\n",
            "Ashutosh Singla - Deputy General Secretary (Technical Affairs)\r\n",
            "[+91-9041811834, ashutosh_s@cs.iitr.ac.in]\r\n",
            "-- \r\n",
            "Thanks & Regards,\r\n",
            "Aryan Bidani\r\n",
            "General Secretary Technical Affairs\r\n",
            "IIT ROORKEE\r\n",
            "\n"
          ]
        }
      ]
    },
    {
      "cell_type": "code",
      "source": [
        "#this is what i did now.\n",
        "from sklearn.metrics.pairwise import cosine_similarity\n",
        "\n",
        "\n",
        "vectorizer = TfidfVectorizer()\n",
        "text_vectors = vectorizer.fit_transform(email_df['text'])\n",
        "\n",
        "term_vectors = {\n",
        "\n",
        "    \"academics\": vectorizer.transform([\"response form, lectures, sem, autumn, spring, curriculum, courses, Semester, acad, students, MS teams, ETE, MTE, schedule, assignment, solution, class, Examination, lecture slides\"]).toarray(),\n",
        "    \"sports\": vectorizer.transform([\"trek, Himalayan explorersClub, sports council, marathon, annual atheletics meet\"]).toarray(),\n",
        "    \"scholarships\": vectorizer.transform([\"scholarships,scholarships and job opportunities, freelancing, fellowship, opportunities, placement , internship, scholars program\"]).toarray(),\n",
        "    \"events\": vectorizer.transform([\"auditorium,newsletter, general seceratary, crimes and security, iit roorkee motorsports, invite, hackathon, workshop, guest lecture, refreshments, recruitments, dance, cultural, art, NSS, TechShila\"]).toarray()\n",
        "}\n",
        "\n",
        "def calculate_similarity(email_vector):\n",
        "    similarity_scores = {}\n",
        "    for term, vector in term_vectors.items():\n",
        "        similarity_scores[term] = cosine_similarity(email_vector, vector)[0][0]\n",
        "    return similarity_scores\n",
        "\n",
        "mail_index = 0 # Update with the desired index\n",
        "mail_vector = text_vectors[mail_index].toarray()\n",
        "similarity_scores = calculate_similarity(mail_vector)\n",
        "most_similar_vector = max(similarity_scores, key=similarity_scores.get)\n",
        "\n",
        "# Retrieve the index of the most similar vector\n",
        "\n",
        "\n",
        "\n",
        "print(\"Most Similar Vector:\", most_similar_vector)\n",
        "print(similarity_scores)\n",
        "print(\"Subject:\", email_df['Subject'][mail_index])\n",
        "\n",
        "\n",
        "\n"
      ],
      "metadata": {
        "colab": {
          "base_uri": "https://localhost:8080/"
        },
        "id": "4zxTcw04hgyY",
        "outputId": "a0b8e656-62de-4b94-e58a-d0ae1206893d"
      },
      "execution_count": null,
      "outputs": [
        {
          "output_type": "stream",
          "name": "stdout",
          "text": [
            "Most Similar Vector: academics\n",
            "{'academics': 0.2459155947431807, 'sports': 0.0, 'scholarships': 0.0036167751398839426, 'events': 0.021080821264107028}\n",
            "Subject: Gentle Reminder II : Filling up \"Response Form\" for lecture courses\r\n",
            " of all programs of Spring Sem 2022-23(Excluding MBA and U.G. 1st Year)\n"
          ]
        }
      ]
    }
  ]
}